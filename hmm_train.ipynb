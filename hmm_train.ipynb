{
 "cells": [
  {
   "cell_type": "code",
   "execution_count": 1,
   "metadata": {},
   "outputs": [
    {
     "name": "stdout",
     "output_type": "stream",
     "text": [
      "607\n"
     ]
    }
   ],
   "source": [
    "import os\n",
    "class_names = ['cothe', 'khong', 'nguoi', 'toi', 'nhung']\n",
    "states = [12, 9, 9, 9, 6]\n",
    "\n",
    "length = 0\n",
    "for d in class_names:\n",
    "    length += len(os.listdir(\"data/\" + d))\n",
    "print(length)"
   ]
  },
  {
   "cell_type": "code",
   "execution_count": 2,
   "metadata": {},
   "outputs": [],
   "source": [
    "import librosa\n",
    "import numpy as np\n",
    "import os\n",
    "import math\n",
    "from sklearn.cluster import KMeans\n",
    "import hmmlearn.hmm\n",
    "\n",
    "def get_mfcc(file_path):\n",
    "    y, sr = librosa.load(file_path) # read .wav file\n",
    "    hop_length = math.floor(sr*0.010) # 10ms hop\n",
    "    win_length = math.floor(sr*0.025) # 25ms frame\n",
    "    # mfcc is 12 x T matrix\n",
    "    mfcc = librosa.feature.mfcc(\n",
    "        y, sr, n_mfcc=12, n_fft=1024,\n",
    "        hop_length=hop_length, win_length=win_length)\n",
    "    # substract mean from mfcc --> normalize mfcc\n",
    "    mfcc = mfcc - np.mean(mfcc, axis=1).reshape((-1,1)) \n",
    "    # delta feature 1st order and 2nd order\n",
    "    delta1 = librosa.feature.delta(mfcc, order=1)\n",
    "    delta2 = librosa.feature.delta(mfcc, order=2)\n",
    "    # X is 36 x T\n",
    "    X = np.concatenate([mfcc, delta1, delta2], axis=0) # O^r\n",
    "    # return T x 36 (transpose of X)\n",
    "    return X.T # hmmlearn use T x N matrix\n"
   ]
  },
  {
   "cell_type": "code",
   "execution_count": 3,
   "metadata": {},
   "outputs": [],
   "source": [
    "all_data = {}\n",
    "all_labels = {}\n",
    "for cname in class_names:\n",
    "    file_paths = [os.path.join(\"data\", cname, i) for i in os.listdir(os.path.join('data', cname)) if i.endswith('.wav')]\n",
    "    data = [get_mfcc(file_path) for file_path in file_paths]\n",
    "    all_data[cname] = data\n",
    "    all_labels[cname] = [class_names.index(cname) for i in range(len(file_paths))]"
   ]
  },
  {
   "cell_type": "code",
   "execution_count": 4,
   "metadata": {},
   "outputs": [],
   "source": [
    "from sklearn.model_selection import train_test_split\n",
    "\n",
    "X = {'train': {}, 'test': {}}\n",
    "y = {'train': {}, 'test': {}}\n",
    "for cname in class_names:\n",
    "    x_train, x_test, _, y_test = train_test_split(\n",
    "        all_data[cname], all_labels[cname], \n",
    "        test_size = 0.33, \n",
    "        random_state=42\n",
    "    )\n",
    "    X['train'][cname] = x_train\n",
    "    X['test'][cname] = x_test\n",
    "    y['test'][cname] = y_test"
   ]
  },
  {
   "cell_type": "code",
   "execution_count": 5,
   "metadata": {},
   "outputs": [
    {
     "name": "stdout",
     "output_type": "stream",
     "text": [
      "cothe 97 48 48\n",
      "khong 66 33 33\n",
      "nguoi 94 47 47\n",
      "toi 79 40 40\n",
      "nhung 66 33 33\n"
     ]
    }
   ],
   "source": [
    "for cname in class_names:\n",
    "    print(cname,len(X['train'][cname]), len(X['test'][cname]), len(y['test'][cname]))"
   ]
  },
  {
   "cell_type": "code",
   "execution_count": 6,
   "metadata": {},
   "outputs": [
    {
     "name": "stdout",
     "output_type": "stream",
     "text": [
      "cothe\n",
      "[[0.5 0.5 0.  0.  0.  0.  0.  0.  0.  0.  0.  0. ]\n",
      " [0.  0.5 0.5 0.  0.  0.  0.  0.  0.  0.  0.  0. ]\n",
      " [0.  0.  0.5 0.5 0.  0.  0.  0.  0.  0.  0.  0. ]\n",
      " [0.  0.  0.  0.5 0.5 0.  0.  0.  0.  0.  0.  0. ]\n",
      " [0.  0.  0.  0.  0.5 0.5 0.  0.  0.  0.  0.  0. ]\n",
      " [0.  0.  0.  0.  0.  0.5 0.5 0.  0.  0.  0.  0. ]\n",
      " [0.  0.  0.  0.  0.  0.  0.5 0.5 0.  0.  0.  0. ]\n",
      " [0.  0.  0.  0.  0.  0.  0.  0.5 0.5 0.  0.  0. ]\n",
      " [0.  0.  0.  0.  0.  0.  0.  0.  0.5 0.5 0.  0. ]\n",
      " [0.  0.  0.  0.  0.  0.  0.  0.  0.  0.5 0.5 0. ]\n",
      " [0.  0.  0.  0.  0.  0.  0.  0.  0.  0.  0.5 0.5]\n",
      " [0.  0.  0.  0.  0.  0.  0.  0.  0.  0.  0.  1. ]]\n"
     ]
    },
    {
     "name": "stderr",
     "output_type": "stream",
     "text": [
      "         1     -365604.4107             +nan\n",
      "         2     -351596.5127      +14007.8979\n",
      "         3     -349606.7960       +1989.7168\n",
      "         4     -348815.7816        +791.0143\n",
      "         5     -348360.1695        +455.6121\n",
      "         6     -348132.8255        +227.3440\n",
      "         7     -348004.3328        +128.4928\n",
      "         8     -347900.1507        +104.1820\n",
      "         9     -347806.4892         +93.6616\n",
      "        10     -347733.0379         +73.4513\n",
      "        11     -347623.8563        +109.1816\n",
      "        12     -347490.6582        +133.1981\n",
      "        13     -347381.6377        +109.0205\n",
      "        14     -347299.5187         +82.1191\n",
      "        15     -347238.8864         +60.6322\n",
      "        16     -347175.0873         +63.7991\n",
      "        17     -347114.5085         +60.5788\n",
      "        18     -347023.9278         +90.5807\n",
      "        19     -346940.1157         +83.8121\n",
      "        20     -346851.9844         +88.1314\n",
      "        21     -346780.7531         +71.2312\n",
      "        22     -346704.2809         +76.4723\n",
      "        23     -346640.9183         +63.3626\n",
      "        24     -346582.9399         +57.9783\n",
      "        25     -346516.6241         +66.3158\n",
      "        26     -346470.9268         +45.6973\n",
      "        27     -346425.3791         +45.5477\n",
      "        28     -346368.1961         +57.1831\n",
      "        29     -346345.0035         +23.1926\n",
      "        30     -346333.7972         +11.2063\n",
      "        31     -346326.7289          +7.0683\n",
      "        32     -346322.5928          +4.1360\n",
      "        33     -346319.7441          +2.8487\n",
      "        34     -346317.6016          +2.1426\n",
      "        35     -346315.8887          +1.7128\n",
      "        36     -346314.4859          +1.4028\n",
      "        37     -346313.3965          +1.0894\n",
      "        38     -346312.5884          +0.8082\n",
      "        39     -346311.9945          +0.5939\n",
      "        40     -346311.5729          +0.4215\n",
      "        41     -346311.3178          +0.2552\n",
      "        42     -346311.2425          +0.0752\n",
      "        43     -346311.3468          -0.1043\n"
     ]
    },
    {
     "name": "stdout",
     "output_type": "stream",
     "text": [
      "khong\n",
      "[[0.5 0.5 0.  0.  0.  0.  0.  0.  0. ]\n",
      " [0.  0.5 0.5 0.  0.  0.  0.  0.  0. ]\n",
      " [0.  0.  0.5 0.5 0.  0.  0.  0.  0. ]\n",
      " [0.  0.  0.  0.5 0.5 0.  0.  0.  0. ]\n",
      " [0.  0.  0.  0.  0.5 0.5 0.  0.  0. ]\n",
      " [0.  0.  0.  0.  0.  0.5 0.5 0.  0. ]\n",
      " [0.  0.  0.  0.  0.  0.  0.5 0.5 0. ]\n",
      " [0.  0.  0.  0.  0.  0.  0.  0.5 0.5]\n",
      " [0.  0.  0.  0.  0.  0.  0.  0.  1. ]]\n"
     ]
    },
    {
     "name": "stderr",
     "output_type": "stream",
     "text": [
      "         1     -413182.0115             +nan\n",
      "         2     -317089.2698      +96092.7417\n",
      "         3     -206739.8700     +110349.3997\n",
      "         4      -34281.9153     +172457.9547\n",
      "         5       15945.7051      +50227.6204\n",
      "         6       25186.2714       +9240.5664\n",
      "         7       25780.5670        +594.2955\n",
      "         8       25916.6651        +136.0982\n",
      "         9       26068.1444        +151.4793\n",
      "        10       26256.6360        +188.4915\n",
      "        11       26395.1817        +138.5457\n",
      "        12       26664.4637        +269.2820\n",
      "        13       26966.0902        +301.6265\n",
      "        14       26937.5574         -28.5327\n"
     ]
    },
    {
     "name": "stdout",
     "output_type": "stream",
     "text": [
      "nguoi\n",
      "[[0.5 0.5 0.  0.  0.  0.  0.  0.  0. ]\n",
      " [0.  0.5 0.5 0.  0.  0.  0.  0.  0. ]\n",
      " [0.  0.  0.5 0.5 0.  0.  0.  0.  0. ]\n",
      " [0.  0.  0.  0.5 0.5 0.  0.  0.  0. ]\n",
      " [0.  0.  0.  0.  0.5 0.5 0.  0.  0. ]\n",
      " [0.  0.  0.  0.  0.  0.5 0.5 0.  0. ]\n",
      " [0.  0.  0.  0.  0.  0.  0.5 0.5 0. ]\n",
      " [0.  0.  0.  0.  0.  0.  0.  0.5 0.5]\n",
      " [0.  0.  0.  0.  0.  0.  0.  0.  1. ]]\n"
     ]
    },
    {
     "name": "stderr",
     "output_type": "stream",
     "text": [
      "         1     -217813.1284             +nan\n",
      "         2     -209157.3117       +8655.8167\n",
      "         3     -208147.9770       +1009.3347\n",
      "         4     -207806.5222        +341.4548\n",
      "         5     -207424.0510        +382.4712\n",
      "         6     -207303.1292        +120.9218\n",
      "         7     -207200.8852        +102.2440\n",
      "         8     -207142.2968         +58.5884\n",
      "         9     -207096.5276         +45.7692\n",
      "        10     -207041.4010         +55.1265\n",
      "        11     -206978.3082         +63.0929\n",
      "        12     -206894.1615         +84.1467\n",
      "        13     -206840.6801         +53.4814\n",
      "        14     -206822.4565         +18.2236\n",
      "        15     -206808.8577         +13.5988\n",
      "        16     -206803.2153          +5.6424\n",
      "        17     -206800.1104          +3.1049\n",
      "        18     -206798.5416          +1.5688\n",
      "        19     -206797.6843          +0.8573\n",
      "        20     -206797.4150          +0.2694\n",
      "        21     -206778.8231         +18.5918\n",
      "        22     -206776.1488          +2.6743\n",
      "        23     -206775.5649          +0.5839\n",
      "        24     -206776.1683          -0.6034\n"
     ]
    },
    {
     "name": "stdout",
     "output_type": "stream",
     "text": [
      "toi\n",
      "[[0.5 0.5 0.  0.  0.  0.  0.  0.  0. ]\n",
      " [0.  0.5 0.5 0.  0.  0.  0.  0.  0. ]\n",
      " [0.  0.  0.5 0.5 0.  0.  0.  0.  0. ]\n",
      " [0.  0.  0.  0.5 0.5 0.  0.  0.  0. ]\n",
      " [0.  0.  0.  0.  0.5 0.5 0.  0.  0. ]\n",
      " [0.  0.  0.  0.  0.  0.5 0.5 0.  0. ]\n",
      " [0.  0.  0.  0.  0.  0.  0.5 0.5 0. ]\n",
      " [0.  0.  0.  0.  0.  0.  0.  0.5 0.5]\n",
      " [0.  0.  0.  0.  0.  0.  0.  0.  1. ]]\n"
     ]
    },
    {
     "name": "stderr",
     "output_type": "stream",
     "text": [
      "         1     -188477.8743             +nan\n",
      "         2     -179580.5109       +8897.3633\n",
      "         3     -177568.6987       +2011.8122\n",
      "         4     -176840.8949        +727.8039\n",
      "         5     -176475.8851        +365.0098\n",
      "         6     -176201.0194        +274.8657\n",
      "         7     -176014.1079        +186.9115\n",
      "         8     -175933.5739         +80.5340\n",
      "         9     -175918.2700         +15.3040\n",
      "        10     -175913.1807          +5.0892\n",
      "        11     -175927.8876         -14.7068\n"
     ]
    },
    {
     "name": "stdout",
     "output_type": "stream",
     "text": [
      "nhung\n",
      "[[0.5 0.5 0.  0.  0.  0. ]\n",
      " [0.  0.5 0.5 0.  0.  0. ]\n",
      " [0.  0.  0.5 0.5 0.  0. ]\n",
      " [0.  0.  0.  0.5 0.5 0. ]\n",
      " [0.  0.  0.  0.  0.5 0.5]\n",
      " [0.  0.  0.  0.  0.  1. ]]\n"
     ]
    },
    {
     "name": "stderr",
     "output_type": "stream",
     "text": [
      "         1     -139957.5606             +nan\n",
      "         2     -134871.9913       +5085.5692\n",
      "         3     -133760.6616       +1111.3297\n",
      "         4     -133557.4086        +203.2531\n",
      "         5     -133486.4107         +70.9979\n",
      "         6     -133408.5543         +77.8564\n",
      "         7     -133244.3397        +164.2146\n",
      "         8     -133023.7229        +220.6168\n",
      "         9     -132829.5320        +194.1908\n",
      "        10     -132734.4166         +95.1154\n",
      "        11     -132709.8468         +24.5699\n",
      "        12     -132699.5407         +10.3061\n",
      "        13     -132692.6589          +6.8818\n",
      "        14     -132685.0396          +7.6193\n",
      "        15     -132674.4174         +10.6221\n",
      "        16     -132664.9179          +9.4995\n",
      "        17     -132652.8582         +12.0597\n",
      "        18     -132611.8375         +41.0207\n",
      "        19     -132514.8572         +96.9803\n",
      "        20     -132419.3892         +95.4680\n",
      "        21     -132319.7027         +99.6865\n",
      "        22     -132299.3319         +20.3708\n",
      "        23     -132291.8552          +7.4767\n",
      "        24     -132288.6066          +3.2486\n",
      "        25     -132287.8528          +0.7538\n",
      "        26     -132287.6026          +0.2502\n",
      "        27     -132287.3881          +0.2145\n",
      "        28     -132287.0981          +0.2900\n",
      "        29     -132286.5979          +0.5002\n",
      "        30     -132286.0453          +0.5525\n",
      "        31     -132285.8204          +0.2249\n",
      "        32     -132285.7422          +0.0782\n",
      "        33     -132285.6957          +0.0466\n",
      "        34     -132285.6568          +0.0389\n",
      "        35     -132285.6107          +0.0460\n",
      "        36     -132285.5243          +0.0865\n",
      "        37     -132285.2865          +0.2378\n",
      "        38     -132284.7259          +0.5606\n",
      "        39     -132284.2667          +0.4592\n",
      "        40     -132284.1479          +0.1188\n",
      "        41     -132284.1201          +0.0278\n",
      "        42     -132284.1114          +0.0087\n"
     ]
    }
   ],
   "source": [
    "import hmmlearn.hmm as hmm\n",
    "\n",
    "model = {}\n",
    "for idx, cname in enumerate(class_names):\n",
    "    start_prob = np.full(states[idx], 0.0)\n",
    "    start_prob[0] = 1.0\n",
    "    trans_matrix = np.full((states[idx], states[idx]), 0.0)\n",
    "    p = 0.5\n",
    "    np.fill_diagonal(trans_matrix, p)\n",
    "    np.fill_diagonal(trans_matrix[0:, 1:], 1 - p)\n",
    "    trans_matrix[-1, -1] = 1.0\n",
    "    \n",
    "    #trans matrix\n",
    "    print(cname)\n",
    "    print(trans_matrix) \n",
    "\n",
    "    model[cname] = hmm.GaussianHMM(\n",
    "        n_components=states[idx], \n",
    "        verbose=True, \n",
    "        n_iter=300, \n",
    "        startprob_prior=start_prob, \n",
    "        transmat_prior=trans_matrix,\n",
    "        params='stmc',\n",
    "        init_params='mc',\n",
    "        random_state=42\n",
    "    )\n",
    "\n",
    "    model[cname].fit(X=np.vstack(X['train'][cname]), lengths=[x.shape[0] for x in X['train'][cname]])"
   ]
  },
  {
   "cell_type": "code",
   "execution_count": 7,
   "metadata": {},
   "outputs": [],
   "source": [
    "import pickle\n",
    "\n",
    "# save model\n",
    "for cname in class_names:\n",
    "    name = f'models_train\\model_{cname}.pkl'\n",
    "    with open(name, 'wb') as file: \n",
    "        pickle.dump(model[cname], file)"
   ]
  },
  {
   "cell_type": "code",
   "execution_count": 8,
   "metadata": {},
   "outputs": [],
   "source": [
    "import pickle, os\n",
    "import numpy as np\n",
    "\n",
    "from sklearn.metrics import classification_report"
   ]
  },
  {
   "cell_type": "code",
   "execution_count": 9,
   "metadata": {},
   "outputs": [
    {
     "name": "stdout",
     "output_type": "stream",
     "text": [
      "0.9791666666666666\n",
      "0.9876543209876543\n",
      "0.96875\n",
      "0.9523809523809523\n",
      "0.9552238805970149\n",
      "[0, 0, 0, 0, 0, 0, 0, 0, 0, 0, 0, 0, 0, 0, 0, 0, 0, 0, 0, 0, 0, 0, 0, 0, 0, 0, 0, 0, 0, 0, 0, 0, 0, 0, 0, 0, 0, 0, 0, 0, 0, 0, 0, 0, 0, 0, 0, 0, 1, 1, 1, 1, 1, 1, 1, 1, 1, 1, 1, 1, 1, 1, 1, 1, 1, 1, 1, 1, 1, 1, 1, 1, 1, 1, 1, 1, 1, 1, 1, 1, 1, 2, 2, 2, 2, 2, 2, 2, 2, 2, 2, 2, 2, 2, 2, 2, 2, 2, 2, 2, 2, 2, 2, 2, 2, 2, 2, 2, 2, 2, 2, 2, 2, 2, 2, 2, 2, 2, 2, 2, 2, 2, 2, 2, 2, 2, 2, 2, 3, 3, 3, 3, 3, 3, 3, 3, 3, 3, 3, 3, 3, 3, 3, 3, 3, 3, 3, 3, 3, 3, 3, 3, 3, 3, 3, 3, 3, 3, 3, 3, 3, 3, 3, 3, 3, 3, 3, 3, 4, 4, 4, 4, 4, 4, 4, 4, 4, 4, 4, 4, 4, 4, 4, 4, 4, 4, 4, 4, 4, 4, 4, 4, 4, 4, 4, 4, 4, 4, 4, 4, 4]\n",
      "[0, 0, 0, 0, 0, 0, 0, 0, 0, 0, 0, 0, 0, 0, 0, 0, 0, 0, 2, 0, 0, 0, 0, 0, 0, 0, 0, 0, 0, 0, 0, 0, 0, 0, 0, 0, 0, 0, 0, 0, 0, 0, 0, 0, 0, 0, 0, 0, 1, 1, 1, 1, 1, 1, 1, 1, 1, 1, 1, 1, 1, 1, 1, 1, 1, 1, 1, 1, 1, 1, 1, 1, 1, 1, 1, 1, 1, 1, 1, 1, 1, 2, 2, 2, 2, 2, 2, 2, 2, 2, 2, 2, 2, 4, 2, 2, 2, 2, 2, 2, 2, 2, 2, 2, 2, 2, 2, 2, 2, 2, 2, 4, 2, 2, 2, 2, 2, 2, 2, 2, 2, 2, 0, 2, 2, 2, 2, 2, 3, 3, 3, 3, 3, 3, 3, 3, 4, 3, 3, 3, 3, 3, 3, 0, 3, 3, 3, 3, 3, 3, 3, 3, 3, 3, 3, 3, 3, 3, 3, 3, 3, 4, 3, 3, 3, 3, 3, 1, 4, 4, 4, 4, 4, 4, 4, 4, 4, 4, 4, 4, 4, 4, 4, 4, 4, 4, 4, 4, 4, 4, 4, 4, 4, 4, 4, 4, 4, 4, 3, 4, 4]\n"
     ]
    }
   ],
   "source": [
    "y_true = []\n",
    "y_pred = []\n",
    "for cname in class_names:\n",
    "    for mfcc, target in zip(X['test'][cname], y['test'][cname]):\n",
    "        scores = [model[cname].score(mfcc) for cname in class_names]\n",
    "        pred = np.argmax(scores)\n",
    "        y_pred.append(pred)\n",
    "        y_true.append(target)\n",
    "    print((np.array(y_true) == np.array(y_pred)).sum()/len(y_true))\n",
    "print(y_true)\n",
    "print(y_pred)\n"
   ]
  },
  {
   "cell_type": "code",
   "execution_count": 10,
   "metadata": {},
   "outputs": [
    {
     "name": "stdout",
     "output_type": "stream",
     "text": [
      "              precision    recall  f1-score   support\n",
      "\n",
      "       cothe       0.96      0.98      0.97        48\n",
      "       khong       0.97      1.00      0.99        33\n",
      "       nguoi       0.98      0.94      0.96        47\n",
      "         toi       0.97      0.90      0.94        40\n",
      "       nhung       0.89      0.97      0.93        33\n",
      "\n",
      "    accuracy                           0.96       201\n",
      "   macro avg       0.95      0.96      0.95       201\n",
      "weighted avg       0.96      0.96      0.96       201\n",
      "\n"
     ]
    }
   ],
   "source": [
    "report = classification_report(y_true, y_pred, target_names=class_names)\n",
    "print(report)"
   ]
  },
  {
   "cell_type": "code",
   "execution_count": 17,
   "metadata": {},
   "outputs": [],
   "source": [
    "#loadmodels\n",
    "import pickle\n",
    "\n",
    "model_train = {}\n",
    "for key in class_names:\n",
    "    name = f\"models\\model_{key}.pkl\"\n",
    "    with open(name, 'rb') as file:\n",
    "        model_train[key] = pickle.load(file)"
   ]
  },
  {
   "cell_type": "code",
   "execution_count": 18,
   "metadata": {},
   "outputs": [
    {
     "name": "stdout",
     "output_type": "stream",
     "text": [
      "{'cothe': GaussianHMM(algorithm='viterbi', covariance_type='diag', covars_prior=0.01,\n",
      "            covars_weight=1, init_params='mc', means_prior=0, means_weight=0,\n",
      "            min_covar=0.001, n_components=12, n_iter=300, params='stmc',\n",
      "            random_state=42,\n",
      "            startprob_prior=array([1., 0., 0., 0., 0., 0., 0., 0., 0., 0., 0., 0.]),\n",
      "            tol=0.01,\n",
      "            transmat_prior=array([[0.5, 0.5, 0. , 0. , 0. , 0. , 0. , 0. , 0. , 0. , 0. , 0. ],\n",
      "       [0. , 0.5, 0....\n",
      "       [0. , 0. , 0. , 0.5, 0.5, 0. , 0. , 0. , 0. , 0. , 0. , 0. ],\n",
      "       [0. , 0. , 0. , 0. , 0.5, 0.5, 0. , 0. , 0. , 0. , 0. , 0. ],\n",
      "       [0. , 0. , 0. , 0. , 0. , 0.5, 0.5, 0. , 0. , 0. , 0. , 0. ],\n",
      "       [0. , 0. , 0. , 0. , 0. , 0. , 0.5, 0.5, 0. , 0. , 0. , 0. ],\n",
      "       [0. , 0. , 0. , 0. , 0. , 0. , 0. , 0.5, 0.5, 0. , 0. , 0. ],\n",
      "       [0. , 0. , 0. , 0. , 0. , 0. , 0. , 0. , 0.5, 0.5, 0. , 0. ],\n",
      "       [0. , 0. , 0. , 0. , 0. , 0. , 0. , 0. , 0. , 0.5, 0.5, 0. ],\n",
      "       [0. , 0. , 0. , 0. , 0. , 0. , 0. , 0. , 0. , 0. , 0.5, 0.5],\n",
      "       [0. , 0. , 0. , 0. , 0. , 0. , 0. , 0. , 0. , 0. , 0. , 1. ]]),\n",
      "            verbose=True), 'khong': GaussianHMM(algorithm='viterbi', covariance_type='diag', covars_prior=0.01,\n",
      "            covars_weight=1, init_params='mc', means_prior=0, means_weight=0,\n",
      "            min_covar=0.001, n_components=9, n_iter=300, params='stmc',\n",
      "            random_state=42,\n",
      "            startprob_prior=array([1., 0., 0., 0., 0., 0., 0., 0., 0.]),\n",
      "            tol=0.01,\n",
      "            transmat_prior=array([[0.5, 0.5, 0. , 0. , 0. , 0. , 0. , 0. , 0. ],\n",
      "       [0. , 0.5, 0.5, 0. , 0. , 0. , 0. , 0. , 0. ],\n",
      "       [0. , 0. , 0.5, 0.5, 0. , 0. , 0. , 0. , 0. ],\n",
      "       [0. , 0. , 0. , 0.5, 0.5, 0. , 0. , 0. , 0. ],\n",
      "       [0. , 0. , 0. , 0. , 0.5, 0.5, 0. , 0. , 0. ],\n",
      "       [0. , 0. , 0. , 0. , 0. , 0.5, 0.5, 0. , 0. ],\n",
      "       [0. , 0. , 0. , 0. , 0. , 0. , 0.5, 0.5, 0. ],\n",
      "       [0. , 0. , 0. , 0. , 0. , 0. , 0. , 0.5, 0.5],\n",
      "       [0. , 0. , 0. , 0. , 0. , 0. , 0. , 0. , 1. ]]),\n",
      "            verbose=True), 'nguoi': GaussianHMM(algorithm='viterbi', covariance_type='diag', covars_prior=0.01,\n",
      "            covars_weight=1, init_params='mc', means_prior=0, means_weight=0,\n",
      "            min_covar=0.001, n_components=9, n_iter=300, params='stmc',\n",
      "            random_state=42,\n",
      "            startprob_prior=array([1., 0., 0., 0., 0., 0., 0., 0., 0.]),\n",
      "            tol=0.01,\n",
      "            transmat_prior=array([[0.5, 0.5, 0. , 0. , 0. , 0. , 0. , 0. , 0. ],\n",
      "       [0. , 0.5, 0.5, 0. , 0. , 0. , 0. , 0. , 0. ],\n",
      "       [0. , 0. , 0.5, 0.5, 0. , 0. , 0. , 0. , 0. ],\n",
      "       [0. , 0. , 0. , 0.5, 0.5, 0. , 0. , 0. , 0. ],\n",
      "       [0. , 0. , 0. , 0. , 0.5, 0.5, 0. , 0. , 0. ],\n",
      "       [0. , 0. , 0. , 0. , 0. , 0.5, 0.5, 0. , 0. ],\n",
      "       [0. , 0. , 0. , 0. , 0. , 0. , 0.5, 0.5, 0. ],\n",
      "       [0. , 0. , 0. , 0. , 0. , 0. , 0. , 0.5, 0.5],\n",
      "       [0. , 0. , 0. , 0. , 0. , 0. , 0. , 0. , 1. ]]),\n",
      "            verbose=True), 'toi': GaussianHMM(algorithm='viterbi', covariance_type='diag', covars_prior=0.01,\n",
      "            covars_weight=1, init_params='mc', means_prior=0, means_weight=0,\n",
      "            min_covar=0.001, n_components=9, n_iter=300, params='stmc',\n",
      "            random_state=42,\n",
      "            startprob_prior=array([1., 0., 0., 0., 0., 0., 0., 0., 0.]),\n",
      "            tol=0.01,\n",
      "            transmat_prior=array([[0.5, 0.5, 0. , 0. , 0. , 0. , 0. , 0. , 0. ],\n",
      "       [0. , 0.5, 0.5, 0. , 0. , 0. , 0. , 0. , 0. ],\n",
      "       [0. , 0. , 0.5, 0.5, 0. , 0. , 0. , 0. , 0. ],\n",
      "       [0. , 0. , 0. , 0.5, 0.5, 0. , 0. , 0. , 0. ],\n",
      "       [0. , 0. , 0. , 0. , 0.5, 0.5, 0. , 0. , 0. ],\n",
      "       [0. , 0. , 0. , 0. , 0. , 0.5, 0.5, 0. , 0. ],\n",
      "       [0. , 0. , 0. , 0. , 0. , 0. , 0.5, 0.5, 0. ],\n",
      "       [0. , 0. , 0. , 0. , 0. , 0. , 0. , 0.5, 0.5],\n",
      "       [0. , 0. , 0. , 0. , 0. , 0. , 0. , 0. , 1. ]]),\n",
      "            verbose=True), 'nhung': GaussianHMM(algorithm='viterbi', covariance_type='diag', covars_prior=0.01,\n",
      "            covars_weight=1, init_params='mc', means_prior=0, means_weight=0,\n",
      "            min_covar=0.001, n_components=6, n_iter=300, params='stmc',\n",
      "            random_state=42, startprob_prior=array([1., 0., 0., 0., 0., 0.]),\n",
      "            tol=0.01,\n",
      "            transmat_prior=array([[0.5, 0.5, 0. , 0. , 0. , 0. ],\n",
      "       [0. , 0.5, 0.5, 0. , 0. , 0. ],\n",
      "       [0. , 0. , 0.5, 0.5, 0. , 0. ],\n",
      "       [0. , 0. , 0. , 0.5, 0.5, 0. ],\n",
      "       [0. , 0. , 0. , 0. , 0.5, 0.5],\n",
      "       [0. , 0. , 0. , 0. , 0. , 1. ]]),\n",
      "            verbose=True)}\n"
     ]
    }
   ],
   "source": [
    "print(model_train)"
   ]
  },
  {
   "cell_type": "code",
   "execution_count": null,
   "metadata": {},
   "outputs": [],
   "source": []
  },
  {
   "cell_type": "code",
   "execution_count": null,
   "metadata": {},
   "outputs": [],
   "source": []
  },
  {
   "cell_type": "code",
   "execution_count": null,
   "metadata": {},
   "outputs": [],
   "source": []
  },
  {
   "cell_type": "code",
   "execution_count": null,
   "metadata": {},
   "outputs": [],
   "source": []
  }
 ],
 "metadata": {
  "kernelspec": {
   "display_name": "Python 3",
   "language": "python",
   "name": "python3"
  },
  "language_info": {
   "codemirror_mode": {
    "name": "ipython",
    "version": 3
   },
   "file_extension": ".py",
   "mimetype": "text/x-python",
   "name": "python",
   "nbconvert_exporter": "python",
   "pygments_lexer": "ipython3",
   "version": "3.7.4"
  }
 },
 "nbformat": 4,
 "nbformat_minor": 4
}
